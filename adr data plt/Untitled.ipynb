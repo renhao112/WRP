{
 "cells": [
  {
   "cell_type": "code",
   "execution_count": 6,
   "id": "d51e31f3-ab2e-48d5-b938-0529acf39323",
   "metadata": {
    "collapsed": true,
    "jupyter": {
     "outputs_hidden": true
    }
   },
   "outputs": [
    {
     "name": "stdout",
     "output_type": "stream",
     "text": [
      "level =  0 ndof =  8 err =  0.7470182699719906\n"
     ]
    },
    {
     "data": {
      "application/vnd.jupyter.widget-view+json": {
       "model_id": "e9001292968a43c1967a6faf904661f1",
       "version_major": 2,
       "version_minor": 0
      },
      "text/plain": [
       "WebGuiWidget(layout=Layout(height='50vh', width='100%'), value={'gui_settings': {}, 'ngsolve_version': '6.2.24…"
      ]
     },
     "metadata": {},
     "output_type": "display_data"
    },
    {
     "name": "stdout",
     "output_type": "stream",
     "text": [
      "level =  1 ndof =  21 err =  0.03896401970397641\n"
     ]
    },
    {
     "data": {
      "application/vnd.jupyter.widget-view+json": {
       "model_id": "a4ab2b35f9144300a88fc80bc3e96f30",
       "version_major": 2,
       "version_minor": 0
      },
      "text/plain": [
       "WebGuiWidget(layout=Layout(height='50vh', width='100%'), value={'gui_settings': {}, 'ngsolve_version': '6.2.24…"
      ]
     },
     "metadata": {},
     "output_type": "display_data"
    },
    {
     "name": "stdout",
     "output_type": "stream",
     "text": [
      "level =  2 ndof =  65 err =  0.0096227070907864\n"
     ]
    },
    {
     "data": {
      "application/vnd.jupyter.widget-view+json": {
       "model_id": "783801c792454b16b88d0ecbdac4cb73",
       "version_major": 2,
       "version_minor": 0
      },
      "text/plain": [
       "WebGuiWidget(layout=Layout(height='50vh', width='100%'), value={'gui_settings': {}, 'ngsolve_version': '6.2.24…"
      ]
     },
     "metadata": {},
     "output_type": "display_data"
    },
    {
     "name": "stdout",
     "output_type": "stream",
     "text": [
      "level =  3 ndof =  225 err =  0.0028270936627974048\n"
     ]
    },
    {
     "data": {
      "application/vnd.jupyter.widget-view+json": {
       "model_id": "dc90d229fcbf4a83a4cd2bc4d90da336",
       "version_major": 2,
       "version_minor": 0
      },
      "text/plain": [
       "WebGuiWidget(layout=Layout(height='50vh', width='100%'), value={'gui_settings': {}, 'ngsolve_version': '6.2.24…"
      ]
     },
     "metadata": {},
     "output_type": "display_data"
    },
    {
     "name": "stdout",
     "output_type": "stream",
     "text": [
      "level =  4 ndof =  833 err =  0.0007474463491909417\n"
     ]
    },
    {
     "data": {
      "application/vnd.jupyter.widget-view+json": {
       "model_id": "040482b93b20436090d9efad598aa3bf",
       "version_major": 2,
       "version_minor": 0
      },
      "text/plain": [
       "WebGuiWidget(layout=Layout(height='50vh', width='100%'), value={'gui_settings': {}, 'ngsolve_version': '6.2.24…"
      ]
     },
     "metadata": {},
     "output_type": "display_data"
    }
   ],
   "source": [
    "#refine mesh & verify fem error order\n",
    "from ngsolve import *\n",
    "from ngsolve.webgui import Draw\n",
    "from netgen.occ import unit_square\n",
    "import math\n",
    "import numpy as np\n",
    "\n",
    "mesh = Mesh(unit_square.GenerateMesh(maxh=0.5))\n",
    "\n",
    "tau = 0.0001\n",
    "tend = 1\n",
    "pi = math.pi\n",
    "u0 = sin(pi*x)*sin(pi*y)\n",
    "\n",
    "fes = H1(mesh, order=1, dirichlet=\"bottom|right|left|top\")\n",
    "u,v = fes.TnT()\n",
    "mform = u*v*dx\n",
    "aform = grad(u)*grad(v)*dx\n",
    "\n",
    "m = BilinearForm(mform)\n",
    "a = BilinearForm(aform)\n",
    "mstar = BilinearForm(mform+tau*aform)\n",
    "\n",
    "gfu = GridFunction(fes)\n",
    "gfu.Set(u0)\n",
    "gfut = GridFunction(gfu.space, multidim=0)\n",
    "gfut.AddMultiDimComponent(gfu.vec)\n",
    "\n",
    "t = Parameter(0.0)\n",
    "uexa = sin(pi*x)*sin(pi*y)*cos(t)\n",
    "funcf = -sin(pi*x)*sin(pi*y)*sin(t) + 2*pi**2*sin(pi*x)*sin(pi*y)*cos(t)\n",
    "f = LinearForm(fes)\n",
    "f += funcf*v*dx\n",
    "\n",
    "level = 0\n",
    "Nt = int(tend/tau)\n",
    "\n",
    "l = []\n",
    "while level < 5:\n",
    "    m.Assemble()\n",
    "    a.Assemble()\n",
    "    mstar.Assemble()\n",
    "    mstarinv = mstar.mat.Inverse(fes.FreeDofs())\n",
    "    \n",
    "    #TimeStepping()\n",
    "    for j in range(Nt):\n",
    "        t.Set((j+1)*tau)\n",
    "        f.Assemble()\n",
    "        res = f.vec - a.mat * gfu.vec\n",
    "        w = mstarinv * res\n",
    "        gfu.vec.data += tau*w\n",
    "        gfut.AddMultiDimComponent(gfu.vec)\n",
    "    err = math.sqrt(Integrate((gfut.MDComponent(Nt-1)-uexa)**2, mesh, order=5))\n",
    "    print(\"level = \", level, \"ndof = \", fes.ndof, \"err = \", err)\n",
    "    l.append(err)\n",
    "    #level +=1\n",
    "    Draw(mesh)\n",
    "    mesh.Refine()\n",
    "    level += 1\n",
    "    \n",
    "    fes.Update()\n",
    "    gfu.Update()\n",
    "    gfu.Set(u0)\n",
    "    gfut = GridFunction(gfu.space, multidim=0)\n",
    "    gfut.AddMultiDimComponent(gfu.vec) \n",
    "\n"
   ]
  },
  {
   "cell_type": "code",
   "execution_count": 7,
   "id": "0e829657-d1b3-4e39-afa7-aa6f0eec3360",
   "metadata": {},
   "outputs": [
    {
     "name": "stdout",
     "output_type": "stream",
     "text": [
      "19.17200216115677\n",
      "4.04917445126059\n",
      "3.403745414386005\n",
      "3.7823365728624343\n"
     ]
    }
   ],
   "source": [
    "for j in range(4):\n",
    "    print(l[j]/l[j+1])"
   ]
  },
  {
   "cell_type": "code",
   "execution_count": 65,
   "id": "d44e1c26-251e-4f85-bf31-10afcce95390",
   "metadata": {},
   "outputs": [
    {
     "name": "stdout",
     "output_type": "stream",
     "text": [
      "0 0.4568323622060708\n",
      "1 0.016287573982251363\n",
      "2 0.0007679609764973256\n",
      "3 3.6606650610166255e-05\n",
      "4 1.7458076501353884e-06\n",
      "5 8.326087750987435e-08\n",
      "6 3.970868874482966e-09\n",
      "7 6.7785784286571e-10\n"
     ]
    }
   ],
   "source": [
    "# semi linear parabolic equation\n",
    "# time method BE for test\n",
    "# solved by the Picard dynamical iteration\n",
    "from ngsolve import *\n",
    "from ngsolve.webgui import Draw\n",
    "from netgen.occ import unit_square\n",
    "import math\n",
    "import numpy as np\n",
    "from time import sleep\n",
    "from ngsolve.solvers import *\n",
    "\n",
    "# mesh\n",
    "mesh = Mesh(unit_square.GenerateMesh(maxh=0.1))\n",
    "\n",
    "# some constants\n",
    "tau = 0.01\n",
    "tend = 100\n",
    "pi = math.pi\n",
    "Nt = int(tend/tau)\n",
    "\n",
    "# fem space\n",
    "fes = H1(mesh, order=3,dirichlet=\"bottom|right|left|top\")\n",
    "u,v = fes.TnT()\n",
    "\n",
    "#time = 0.0\n",
    "# initial value function\n",
    "u0 = sin(pi*x)*sin(pi*y)\n",
    "gfu = GridFunction(fes)\n",
    "gfu.Set(u0)\n",
    "#scene = Draw(gfu, deformation=True, autoscale=False, max=1, min=-0.2)\n",
    "#sleep(2)\n",
    "\n",
    "#timestepping with nonlinear term \n",
    "gfuref = GridFunction(gfu.space, multidim=0) # WR reference solution \n",
    "gfuref.AddMultiDimComponent(gfu.vec)\n",
    "for j in range(Nt):\n",
    "    nl = BilinearForm(gfu.space)\n",
    "    nl += (u*v + tau*grad(u)*grad(v) -tau*exp(u/(1+u))*v-gfuref.MDComponent(j)*v)*dx\n",
    "    Newton(nl,gfu,freedofs=gfu.space.FreeDofs(),maxit=100,maxerr=1e-11,inverse=\"sparsecholesky\",dampfactor=1,printing=False)\n",
    "    #scene.Redraw()\n",
    "    #sleep(0.2)\n",
    "    gfuref.AddMultiDimComponent(gfu.vec)\n",
    "\n",
    "mform = u*v*dx\n",
    "aform = grad(u)*grad(v)*dx\n",
    "\n",
    "m = BilinearForm(mform).Assemble()\n",
    "a = BilinearForm(aform).Assemble()\n",
    "mstar = BilinearForm(mform+tau*aform).Assemble()\n",
    "mstarinv = mstar.mat.Inverse(fes.FreeDofs())\n",
    "\n",
    "# WR iteration Picard\n",
    "# initialization\n",
    "gfu.Set(u0)\n",
    "gfutold = GridFunction(gfu.space, multidim=0)\n",
    "for j in range(Nt+1):\n",
    "    gfutold.AddMultiDimComponent(gfu.vec)\n",
    "\n",
    "def maxerrnorm(gfutnew,gfuref):\n",
    "    \"max L2 norm iteration error\"\n",
    "    errv = np.zeros(Nt)\n",
    "    for k in range(Nt):\n",
    "        errv[k] = math.sqrt(Integrate((gfuref.MDComponent(k+1)-gfutnew.MDComponent(k+1))**2, mesh, order=5))\n",
    "        if errv[k] >10:\n",
    "            print(\"-------------------\", k, errv[k])\n",
    "    return max(errv)\n",
    "    \n",
    "# main iteration\n",
    "wrer = np.zeros(8)\n",
    "wrer[0] = maxerrnorm(gfutold,gfuref)\n",
    "print(0, wrer[0])\n",
    "for it in range(7):\n",
    "    gfu.Set(u0)\n",
    "    gfutnew = GridFunction(gfu.space, multidim=0)\n",
    "    gfutnew.AddMultiDimComponent(gfu.vec)\n",
    "    for j in range(Nt): \n",
    "        # right hand relaxation term\n",
    "        f = LinearForm(fes)\n",
    "        preu = gfutold.MDComponent(j+1)\n",
    "        funcf = exp(preu/(1+preu))\n",
    "        f += funcf*v*dx\n",
    "        f.Assemble()\n",
    "        \n",
    "        res = f.vec - a.mat * gfu.vec\n",
    "        w = mstarinv * res\n",
    "        gfu.vec.data += tau*w\n",
    "        #Draw(gfu)\n",
    "        gfutnew.AddMultiDimComponent(gfu.vec)\n",
    "\n",
    "    gfutold = gfutnew\n",
    "    wrer[it+1] = maxerrnorm(gfutold,gfuref)\n",
    "    print(it+1, wrer[it+1])\n",
    "\n"
   ]
  },
  {
   "cell_type": "code",
   "execution_count": 63,
   "id": "34295474-ba13-4dcd-af7e-0a99a5f3a0e7",
   "metadata": {
    "scrolled": true
   },
   "outputs": [
    {
     "name": "stdout",
     "output_type": "stream",
     "text": [
      "0 0.4568323622060708\n",
      "1 0.05337220770407313\n",
      "2 0.010759480145660368\n",
      "3 0.0019903401608000445\n",
      "4 0.00037477905784742986\n",
      "5 7.031476435861399e-05\n",
      "6 1.3201505378969616e-05\n",
      "7 2.4782428369729976e-06\n"
     ]
    }
   ],
   "source": [
    "# semi linear parabolic equation\n",
    "# solved by the Picard parareal dynamical iteration\n",
    "# time method BE for fine and coarse propagators\n",
    "from ngsolve import *\n",
    "from ngsolve.webgui import Draw\n",
    "from netgen.occ import unit_square\n",
    "import math\n",
    "import numpy as np\n",
    "from time import sleep\n",
    "from ngsolve.solvers import *\n",
    "\n",
    "# mesh\n",
    "mesh = Mesh(unit_square.GenerateMesh(maxh=0.1))\n",
    "\n",
    "# some constants\n",
    "tau = 0.01\n",
    "tend = 10\n",
    "pi = math.pi\n",
    "Nt = int(tend/tau)\n",
    "\n",
    "# fem space\n",
    "fes = H1(mesh, order=3,dirichlet=\"bottom|right|left|top\")\n",
    "u,v = fes.TnT()\n",
    "\n",
    "#time = 0.0\n",
    "# initial value function\n",
    "u0 = sin(pi*x)*sin(pi*y)\n",
    "gfu = GridFunction(fes)\n",
    "gfu.Set(u0)\n",
    "#scene = Draw(gfu, deformation=True, autoscale=False, max=1, min=-0.2)\n",
    "#sleep(2)\n",
    "\n",
    "#timestepping with nonlinear term \n",
    "gfuref = GridFunction(gfu.space, multidim=0) # WR reference solution \n",
    "gfuref.AddMultiDimComponent(gfu.vec)\n",
    "for j in range(Nt):\n",
    "    nl = BilinearForm(gfu.space)\n",
    "    nl += (u*v + tau*grad(u)*grad(v) -tau*exp(u/(1*(1+u)))*v-gfuref.MDComponent(j)*v)*dx\n",
    "    Newton(nl,gfu,freedofs=gfu.space.FreeDofs(),maxit=100,maxerr=1e-11,inverse=\"sparsecholesky\",dampfactor=1,printing=False)\n",
    "    #scene.Redraw()\n",
    "    #sleep(0.2)\n",
    "    gfuref.AddMultiDimComponent(gfu.vec)\n",
    "\n",
    "mform = u*v*dx\n",
    "aform = grad(u)*grad(v)*dx\n",
    "\n",
    "m = BilinearForm(mform).Assemble()\n",
    "a = BilinearForm(aform).Assemble()\n",
    "mstar = BilinearForm(mform+tau*aform).Assemble()\n",
    "mstarinv = mstar.mat.Inverse(fes.FreeDofs())\n",
    "\n",
    "# WR Parareal iteration\n",
    "# initialization\n",
    "gfu.Set(u0)\n",
    "gfuextold = GridFunction(gfu.space, multidim=0)\n",
    "for j in range(Nt+1):\n",
    "    gfuextold.AddMultiDimComponent(gfu.vec)\n",
    "\n",
    "def maxerrnorm(rgfutnew,rgfuref):\n",
    "    \"max L2 norm iteration error\"\n",
    "    errv = np.zeros(Nt)\n",
    "    for k in range(Nt):\n",
    "        errv[k] = math.sqrt(Integrate((rgfuref.MDComponent(k+1)-rgfutnew.MDComponent(k+1))**2, mesh, order=5))\n",
    "        if errv[k] >10:\n",
    "            print(\"-----\", k, errv[k])\n",
    "    return max(errv)\n",
    "\n",
    "# parareal setting\n",
    "Nf = 25         \n",
    "Nc = int(Nt/Nf) #number of subintervals\n",
    "gfutold = GridFunction(gfu.space, multidim=0)\n",
    "for j in range(Nc+1):\n",
    "    gfutold.AddMultiDimComponent(gfu.vec)\n",
    "\n",
    "mstarcoa = BilinearForm(mform + Nf*tau*aform).Assemble()\n",
    "mstarcoainv = mstarcoa.mat.Inverse(fes.FreeDofs())\n",
    "\n",
    "def coarse(j,cfu):\n",
    "    cgfu = GridFunction(fes)\n",
    "    cgfu.Set(cfu)\n",
    "    f = LinearForm(fes)\n",
    "    preu = gfuextold.MDComponent(j*Nf+1)\n",
    "    funcf = exp(preu/(1*(1+preu)))\n",
    "    f += funcf*v*dx\n",
    "    f.Assemble()\n",
    "\n",
    "    res = f.vec - a.mat * cgfu.vec\n",
    "    w = mstarcoainv * res\n",
    "    cgfu.vec.data += Nf*tau*w\n",
    "    return cgfu.vec\n",
    "\n",
    "def fine(j,ffu):\n",
    "    fgfu = GridFunction(fes)\n",
    "    fgfu.Set(ffu)\n",
    "    for k in range(Nf):\n",
    "        f = LinearForm(fes)\n",
    "        preu = gfuextold.MDComponent(j*Nf+k+1)\n",
    "        funcf = exp(preu/(1*(1+preu)))\n",
    "        f += funcf*v*dx\n",
    "        f.Assemble()\n",
    "        res = f.vec - a.mat * fgfu.vec\n",
    "        w = mstarinv * res\n",
    "        fgfu.vec.data += tau*w\n",
    "    return fgfu.vec\n",
    "\n",
    "def extension():\n",
    "    egfu = GridFunction(fes)\n",
    "    for j in range(Nc):\n",
    "        egfu.Set(gfutnew.MDComponent(j))\n",
    "        for k in range(Nf):\n",
    "            f = LinearForm(fes)\n",
    "            preu = gfuextold.MDComponent(j*Nf+k+1)\n",
    "            funcf = exp(preu/(1*(1+preu)))\n",
    "            f += funcf*v*dx\n",
    "            f.Assemble()\n",
    "            res = f.vec - a.mat * egfu.vec\n",
    "            w = mstarinv * res\n",
    "            egfu.vec.data += tau*w\n",
    "            gfuextnew.AddMultiDimComponent(egfu.vec)\n",
    "\n",
    "# main iteration\n",
    "wrpit = 7\n",
    "wrer = np.zeros(wrpit+1)\n",
    "wrer[0] = maxerrnorm(gfuextold,gfuref)\n",
    "print(0, wrer[0])\n",
    "for it in range(wrpit):\n",
    "    wrer[it] = maxerrnorm(gfuextold,gfuref)\n",
    "    gfu.Set(u0)\n",
    "    gfuextnew = GridFunction(gfu.space, multidim=0)\n",
    "    gfuextnew.AddMultiDimComponent(gfu.vec)\n",
    "    for pit in range(1): # inner parareal iteration \n",
    "        gfutnew = GridFunction(gfu.space, multidim=0)\n",
    "        gfutnew.AddMultiDimComponent(gfu.vec)\n",
    "        for j in range(Nc):\n",
    "            #tempu = GridFunction(fes)\n",
    "            tempuvec = fine(j,gfutold.MDComponent(j)) + coarse(j,gfutnew.MDComponent(j)) - coarse(j,gfutold.MDComponent(j))\n",
    "            gfutnew.AddMultiDimComponent(tempuvec)\n",
    "            #print(math.sqrt(Integrate((gfutold.MDComponent(j)-gfutnew.MDComponent(j))**2, mesh, order=5)))\n",
    "        gfutold = gfutnew\n",
    "        \n",
    "    extension()          \n",
    "    gfuextold = gfuextnew  \n",
    "    wrer[it+1] = maxerrnorm(gfuextold,gfuref)\n",
    "    print(it+1, wrer[it+1])"
   ]
  },
  {
   "cell_type": "code",
   "execution_count": 14,
   "id": "a509f690-1eb3-452c-8f85-cee96e56a0cb",
   "metadata": {
    "collapsed": true,
    "jupyter": {
     "outputs_hidden": true
    }
   },
   "outputs": [
    {
     "data": {
      "application/vnd.jupyter.widget-view+json": {
       "model_id": "489ede18e60b49e8a1454e20b34bb346",
       "version_major": 2,
       "version_minor": 0
      },
      "text/plain": [
       "WebGuiWidget(layout=Layout(height='50vh', width='100%'), value={'gui_settings': {}, 'ngsolve_version': '6.2.24…"
      ]
     },
     "metadata": {},
     "output_type": "display_data"
    },
    {
     "name": "stdout",
     "output_type": "stream",
     "text": [
      "Newton iteration  0\n",
      "err =  2.886742631783149\n",
      "Newton iteration  1\n",
      "err =  0.1104202770090924\n",
      "Newton iteration  2\n",
      "err =  0.00044980563721634664\n",
      "Newton iteration  3\n",
      "err =  7.341961621094145e-09\n",
      "Newton iteration  4\n",
      "err =  1.1509317217622664e-15\n"
     ]
    },
    {
     "data": {
      "application/vnd.jupyter.widget-view+json": {
       "model_id": "5f06e992b7cb40c1b09ac1c0b760f90c",
       "version_major": 2,
       "version_minor": 0
      },
      "text/plain": [
       "WebGuiWidget(layout=Layout(height='50vh', width='100%'), value={'gui_settings': {}, 'ngsolve_version': '6.2.24…"
      ]
     },
     "metadata": {},
     "output_type": "display_data"
    },
    {
     "data": {
      "text/plain": [
       "BaseWebGuiScene"
      ]
     },
     "execution_count": 14,
     "metadata": {},
     "output_type": "execute_result"
    }
   ],
   "source": [
    "from ngsolve import *\n",
    "from ngsolve.webgui import Draw\n",
    "from ngsolve.solvers import *\n",
    "import scipy\n",
    "\n",
    "mesh = Mesh(unit_square.GenerateMesh(maxh=0.1))\n",
    "fes = H1(mesh, order = 2, dirichlet = \"left|right\")\n",
    "u,v = fes.TnT()\n",
    "a = BilinearForm(fes)\n",
    "a += (grad(u)*grad(v) + 1/3*u**3*v - 10*v)*dx\n",
    "\n",
    "gfu = GridFunction(fes)\n",
    "gfu.Set((x*(1-x))**4*(y*(1-y))**4)\n",
    "Draw(gfu)\n",
    "Newton(a,gfu,freedofs=gfu.space.FreeDofs(),maxit=100,maxerr=1e-11,inverse=\"sparsecholesky\",dampfactor=1,printing=True)\n",
    "Draw(gfu)"
   ]
  },
  {
   "cell_type": "code",
   "execution_count": null,
   "id": "4b92e936-5f84-4df5-b1d4-850b3e034f7c",
   "metadata": {},
   "outputs": [],
   "source": []
  }
 ],
 "metadata": {
  "kernelspec": {
   "display_name": "Python 3 (ipykernel)",
   "language": "python",
   "name": "python3"
  },
  "language_info": {
   "codemirror_mode": {
    "name": "ipython",
    "version": 3
   },
   "file_extension": ".py",
   "mimetype": "text/x-python",
   "name": "python",
   "nbconvert_exporter": "python",
   "pygments_lexer": "ipython3",
   "version": "3.10.12"
  }
 },
 "nbformat": 4,
 "nbformat_minor": 5
}
